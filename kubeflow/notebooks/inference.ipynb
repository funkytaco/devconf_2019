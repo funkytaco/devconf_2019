{
 "cells": [
  {
   "cell_type": "code",
   "execution_count": 1,
   "metadata": {},
   "outputs": [],
   "source": [
    "from __future__ import print_function\n",
    "\n",
    "import sys\n",
    "import threading\n",
    "\n",
    "from grpc.beta import implementations\n",
    "import numpy\n",
    "import tensorflow as tf\n",
    "from datetime import datetime\n",
    "\n",
    "from tensorflow_serving.apis import predict_pb2\n",
    "from tensorflow_serving.apis import prediction_service_pb2"
   ]
  },
  {
   "cell_type": "code",
   "execution_count": 2,
   "metadata": {},
   "outputs": [
    {
     "name": "stdout",
     "output_type": "stream",
     "text": [
      "Requirement already satisfied: tensorflow_serving_api==1.13.0 in /opt/conda/lib/python3.6/site-packages (1.13.0)\n",
      "Requirement already satisfied: grpcio>=1.0<2 in /opt/conda/lib/python3.6/site-packages (from tensorflow_serving_api==1.13.0) (1.19.0)\n",
      "Requirement already satisfied: tensorflow<2,>=1.2.0 in /opt/conda/lib/python3.6/site-packages (from tensorflow_serving_api==1.13.0) (1.13.1)\n",
      "Requirement already satisfied: protobuf>=3.6.0 in /opt/conda/lib/python3.6/site-packages (from tensorflow_serving_api==1.13.0) (3.7.1)\n",
      "Requirement already satisfied: six>=1.5.2 in /opt/conda/lib/python3.6/site-packages (from grpcio>=1.0<2->tensorflow_serving_api==1.13.0) (1.12.0)\n",
      "Requirement already satisfied: astor>=0.6.0 in /opt/conda/lib/python3.6/site-packages (from tensorflow<2,>=1.2.0->tensorflow_serving_api==1.13.0) (0.7.1)\n",
      "Requirement already satisfied: wheel>=0.26 in /opt/conda/lib/python3.6/site-packages (from tensorflow<2,>=1.2.0->tensorflow_serving_api==1.13.0) (0.33.1)\n",
      "Requirement already satisfied: tensorflow-estimator<1.14.0rc0,>=1.13.0 in /opt/conda/lib/python3.6/site-packages (from tensorflow<2,>=1.2.0->tensorflow_serving_api==1.13.0) (1.13.0)\n",
      "Requirement already satisfied: tensorboard<1.14.0,>=1.13.0 in /opt/conda/lib/python3.6/site-packages (from tensorflow<2,>=1.2.0->tensorflow_serving_api==1.13.0) (1.13.1)\n",
      "Requirement already satisfied: termcolor>=1.1.0 in /opt/conda/lib/python3.6/site-packages (from tensorflow<2,>=1.2.0->tensorflow_serving_api==1.13.0) (1.1.0)\n",
      "Requirement already satisfied: absl-py>=0.1.6 in /opt/conda/lib/python3.6/site-packages (from tensorflow<2,>=1.2.0->tensorflow_serving_api==1.13.0) (0.7.1)\n",
      "Requirement already satisfied: keras-applications>=1.0.6 in /opt/conda/lib/python3.6/site-packages (from tensorflow<2,>=1.2.0->tensorflow_serving_api==1.13.0) (1.0.7)\n",
      "Requirement already satisfied: gast>=0.2.0 in /opt/conda/lib/python3.6/site-packages (from tensorflow<2,>=1.2.0->tensorflow_serving_api==1.13.0) (0.2.2)\n",
      "Requirement already satisfied: keras-preprocessing>=1.0.5 in /opt/conda/lib/python3.6/site-packages (from tensorflow<2,>=1.2.0->tensorflow_serving_api==1.13.0) (1.0.9)\n",
      "Requirement already satisfied: numpy>=1.13.3 in /opt/conda/lib/python3.6/site-packages (from tensorflow<2,>=1.2.0->tensorflow_serving_api==1.13.0) (1.16.2)\n",
      "Requirement already satisfied: setuptools in /opt/conda/lib/python3.6/site-packages (from protobuf>=3.6.0->tensorflow_serving_api==1.13.0) (40.9.0)\n",
      "Requirement already satisfied: mock>=2.0.0 in /opt/conda/lib/python3.6/site-packages (from tensorflow-estimator<1.14.0rc0,>=1.13.0->tensorflow<2,>=1.2.0->tensorflow_serving_api==1.13.0) (2.0.0)\n",
      "Requirement already satisfied: werkzeug>=0.11.15 in /opt/conda/lib/python3.6/site-packages (from tensorboard<1.14.0,>=1.13.0->tensorflow<2,>=1.2.0->tensorflow_serving_api==1.13.0) (0.15.2)\n",
      "Requirement already satisfied: markdown>=2.6.8 in /opt/conda/lib/python3.6/site-packages (from tensorboard<1.14.0,>=1.13.0->tensorflow<2,>=1.2.0->tensorflow_serving_api==1.13.0) (3.1)\n",
      "Requirement already satisfied: h5py in /opt/conda/lib/python3.6/site-packages (from keras-applications>=1.0.6->tensorflow<2,>=1.2.0->tensorflow_serving_api==1.13.0) (2.9.0)\n",
      "Requirement already satisfied: pbr>=0.11 in /opt/conda/lib/python3.6/site-packages (from mock>=2.0.0->tensorflow-estimator<1.14.0rc0,>=1.13.0->tensorflow<2,>=1.2.0->tensorflow_serving_api==1.13.0) (5.1.3)\n",
      "\u001b[33mYou are using pip version 19.0.1, however version 19.2.2 is available.\n",
      "You should consider upgrading via the 'pip install --upgrade pip' command.\u001b[0m\n"
     ]
    }
   ],
   "source": [
    "!pip install tensorflow_serving_api==1.13.0\n"
   ]
  },
  {
   "cell_type": "code",
   "execution_count": 3,
   "metadata": {},
   "outputs": [
    {
     "name": "stdout",
     "output_type": "stream",
     "text": [
      "Name: tensorflow-serving-api\r\n",
      "Version: 1.13.0\r\n",
      "Summary: TensorFlow Serving Python API.\r\n",
      "Home-page: http://tensorflow.org/serving\r\n",
      "Author: Google Inc.\r\n",
      "Author-email: tensorflow-serving-dev@googlegroups.com\r\n",
      "License: Apache 2.0\r\n",
      "Location: /opt/conda/lib/python3.6/site-packages\r\n",
      "Requires: protobuf, grpcio, tensorflow\r\n",
      "Required-by: \r\n"
     ]
    }
   ],
   "source": [
    "!pip show tensorflow_serving_api"
   ]
  },
  {
   "cell_type": "code",
   "execution_count": 4,
   "metadata": {},
   "outputs": [],
   "source": [
    "from __future__ import print_function\n",
    "\n",
    "import sys\n",
    "import threading\n",
    "\n",
    "from grpc.beta import implementations\n",
    "import numpy\n",
    "import tensorflow as tf\n",
    "from datetime import datetime\n",
    "\n",
    "from tensorflow_serving.apis import predict_pb2\n",
    "from tensorflow_serving.apis import prediction_service_pb2"
   ]
  },
  {
   "cell_type": "code",
   "execution_count": 5,
   "metadata": {},
   "outputs": [],
   "source": [
    "tf.app.flags.DEFINE_string(\"server\", \"10.128.0.46:9000\", \"PredictionService host:port\")\n",
    "FLAGS = tf.app.flags.FLAGS"
   ]
  },
  {
   "cell_type": "code",
   "execution_count": 6,
   "metadata": {},
   "outputs": [],
   "source": [
    "def do_inference(hostport):\n",
    "    \"\"\"Tests PredictionService with concurrent requests.\n",
    "  Args:\n",
    "    hostport: Host:port address of the PredictionService.\n",
    "  Returns:\n",
    "    pred values, ground truth labels, processing time\n",
    "  \"\"\"\n",
    "    # connect to server\n",
    "    host, port = hostport.split(\":\")\n",
    "    channel = implementations.insecure_channel(host, int(port))\n",
    "    stub = prediction_service_pb2.beta_create_PredictionService_stub(channel)\n",
    "\n",
    "    # prepare request object\n",
    "    request = predict_pb2.PredictRequest()\n",
    "    request.model_spec.name = \"default\"\n",
    "    request.model_spec.signature_name = \"prediction\"\n",
    "\n",
    "    # Randomly generate some test data\n",
    "    temp_data = numpy.random.randn(100, 3).astype(numpy.float32)\n",
    "    data, label = (\n",
    "        temp_data,\n",
    "        numpy.sum(temp_data * numpy.array([1, 2, 3]).astype(numpy.float32), 1),\n",
    "    )\n",
    "    request.inputs[\"input\"].CopyFrom(\n",
    "        tf.contrib.util.make_tensor_proto(data, shape=data.shape)\n",
    "    )\n",
    "\n",
    "    # make inference and clock the time\n",
    "    now = datetime.now()\n",
    "    result = stub.Predict(request, 5.0)  # 5 seconds\n",
    "    waiting = datetime.now() - now\n",
    "    return result, label, waiting.microseconds\n"
   ]
  },
  {
   "cell_type": "code",
   "execution_count": 7,
   "metadata": {},
   "outputs": [],
   "source": [
    "def main(_):\n",
    "\n",
    "    if not FLAGS.server:\n",
    "        print(\"please specify server host:port\")\n",
    "        return\n",
    "\n",
    "    result, label, waiting = do_inference(FLAGS.server)\n",
    "    print(\"Result is: \", result)\n",
    "    print(\"Actual label is: \", label)\n",
    "    print(\"Waiting time is: \", waiting, \"microseconds.\")"
   ]
  },
  {
   "cell_type": "code",
   "execution_count": 8,
   "metadata": {},
   "outputs": [
    {
     "name": "stderr",
     "output_type": "stream",
     "text": [
      "/opt/conda/lib/python3.6/site-packages/tensorflow_serving/apis/prediction_service_pb2.py:131: DeprecationWarning: beta_create_PredictionService_stub() method is deprecated. This method will be removed in near future versions of TF Serving. Please switch to GA gRPC API in prediction_service_pb2_grpc.\n",
      "  'prediction_service_pb2_grpc.', DeprecationWarning)\n"
     ]
    },
    {
     "name": "stdout",
     "output_type": "stream",
     "text": [
      "\n",
      "WARNING: The TensorFlow contrib module will not be included in TensorFlow 2.0.\n",
      "For more information, please see:\n",
      "  * https://github.com/tensorflow/community/blob/master/rfcs/20180907-contrib-sunset.md\n",
      "  * https://github.com/tensorflow/addons\n",
      "If you depend on functionality not listed there, please file an issue.\n",
      "\n",
      "Result is:  outputs {\n",
      "  key: \"output\"\n",
      "  value {\n",
      "    dtype: DT_FLOAT\n",
      "    tensor_shape {\n",
      "      dim {\n",
      "        size: 100\n",
      "      }\n",
      "      dim {\n",
      "        size: 1\n",
      "      }\n",
      "    }\n",
      "    float_val: 4.55661153793335\n",
      "    float_val: 1.242213487625122\n",
      "    float_val: 4.095940589904785\n",
      "    float_val: 0.03343285992741585\n",
      "    float_val: -0.3759818971157074\n",
      "    float_val: -1.9288034439086914\n",
      "    float_val: 3.333224296569824\n",
      "    float_val: -1.4037739038467407\n",
      "    float_val: 0.612320065498352\n",
      "    float_val: 3.054539203643799\n",
      "    float_val: 3.407688617706299\n",
      "    float_val: 5.076531887054443\n",
      "    float_val: -1.8865214586257935\n",
      "    float_val: -1.6547049283981323\n",
      "    float_val: -1.0727590322494507\n",
      "    float_val: 6.138456344604492\n",
      "    float_val: 1.8794984817504883\n",
      "    float_val: -2.0373077392578125\n",
      "    float_val: -1.4352668523788452\n",
      "    float_val: 0.6535849571228027\n",
      "    float_val: 2.8741822242736816\n",
      "    float_val: -2.876126766204834\n",
      "    float_val: 9.957618713378906\n",
      "    float_val: 2.3647570610046387\n",
      "    float_val: 1.8648864030838013\n",
      "    float_val: 3.332923412322998\n",
      "    float_val: 5.265012264251709\n",
      "    float_val: 1.3512294292449951\n",
      "    float_val: 2.359443426132202\n",
      "    float_val: 2.8295509815216064\n",
      "    float_val: 1.4362390041351318\n",
      "    float_val: 0.25380030274391174\n",
      "    float_val: 1.8945602178573608\n",
      "    float_val: -2.188957929611206\n",
      "    float_val: 5.06530237197876\n",
      "    float_val: 3.300161123275757\n",
      "    float_val: 2.496168613433838\n",
      "    float_val: 2.8002076148986816\n",
      "    float_val: -0.6658895015716553\n",
      "    float_val: 1.1659387350082397\n",
      "    float_val: 0.5713427066802979\n",
      "    float_val: 7.30071496963501\n",
      "    float_val: -3.0613162517547607\n",
      "    float_val: -0.9638410806655884\n",
      "    float_val: -2.233393430709839\n",
      "    float_val: 1.8320435285568237\n",
      "    float_val: -8.968615531921387\n",
      "    float_val: 3.5978474617004395\n",
      "    float_val: -1.740392804145813\n",
      "    float_val: -0.1918412297964096\n",
      "    float_val: -1.7993500232696533\n",
      "    float_val: 4.249903202056885\n",
      "    float_val: 3.7892825603485107\n",
      "    float_val: 2.414562702178955\n",
      "    float_val: 0.24366559088230133\n",
      "    float_val: -0.9819923043251038\n",
      "    float_val: -3.0580270290374756\n",
      "    float_val: -5.049041271209717\n",
      "    float_val: 7.757846355438232\n",
      "    float_val: -0.052793364971876144\n",
      "    float_val: 6.105869293212891\n",
      "    float_val: -1.2442458868026733\n",
      "    float_val: 1.2327059507369995\n",
      "    float_val: 3.803556442260742\n",
      "    float_val: 0.14357054233551025\n",
      "    float_val: 2.989983558654785\n",
      "    float_val: 1.8685168027877808\n",
      "    float_val: -6.366281509399414\n",
      "    float_val: 1.3725029230117798\n",
      "    float_val: -0.6182392835617065\n",
      "    float_val: 1.8325647115707397\n",
      "    float_val: -0.47337839007377625\n",
      "    float_val: 0.45609158277511597\n",
      "    float_val: -1.0234155654907227\n",
      "    float_val: -2.4775617122650146\n",
      "    float_val: -7.104160308837891\n",
      "    float_val: 0.13360632956027985\n",
      "    float_val: 0.4184383451938629\n",
      "    float_val: -2.906029462814331\n",
      "    float_val: -2.5831973552703857\n",
      "    float_val: 5.834069728851318\n",
      "    float_val: -1.728075623512268\n",
      "    float_val: -1.9977415800094604\n",
      "    float_val: -1.9225984811782837\n",
      "    float_val: -4.034693241119385\n",
      "    float_val: 0.014447050169110298\n",
      "    float_val: 2.217606782913208\n",
      "    float_val: 3.585184335708618\n",
      "    float_val: 3.481172561645508\n",
      "    float_val: 3.1883749961853027\n",
      "    float_val: 5.130414009094238\n",
      "    float_val: -0.2065577358007431\n",
      "    float_val: 2.882720947265625\n",
      "    float_val: -1.5487149953842163\n",
      "    float_val: -6.506843090057373\n",
      "    float_val: 5.067172527313232\n",
      "    float_val: 3.74282169342041\n",
      "    float_val: 4.811448097229004\n",
      "    float_val: -3.124453544616699\n",
      "    float_val: 4.426207065582275\n",
      "  }\n",
      "}\n",
      "model_spec {\n",
      "  name: \"default\"\n",
      "  version {\n",
      "    value: 1\n",
      "  }\n",
      "  signature_name: \"prediction\"\n",
      "}\n",
      "\n",
      "Actual label is:  [ 4.866519    1.3079337   4.361661    0.05747378 -0.45009613 -2.0489118\n",
      "  3.4883478  -1.5167681   0.6150665   3.2104712   3.6819065   5.3720837\n",
      " -2.0795069  -1.7213867  -1.1426625   6.6157217   2.0548215  -2.2584703\n",
      " -1.5488224   0.70456207  3.083685   -3.0842094  10.571539    2.5167966\n",
      "  2.0151498   3.5533996   5.5648975   1.4142997   2.5051498   3.0185099\n",
      "  1.5138426   0.2733884   1.9980264  -2.3965197   5.4431295   3.5508611\n",
      "  2.7208397   3.0266573  -0.74164975  1.2557147   0.6125515   7.7788944\n",
      " -3.267355   -1.0067701  -2.3593688   2.004959   -9.593405    3.7863517\n",
      " -1.8473115  -0.24677277 -1.91243     4.5343876   4.051993    2.5541239\n",
      "  0.28449345 -1.0785613  -3.3248658  -5.36827     8.271917   -0.09930098\n",
      "  6.493162   -1.3850906   1.3075378   4.1055613   0.13422251  3.1697125\n",
      "  1.9610924  -6.7440443   1.430903   -0.7109941   1.9832505  -0.4785949\n",
      "  0.48369232 -1.043492   -2.6695256  -7.5921555   0.15369654  0.38589573\n",
      " -3.1257422  -2.7810307   6.2387047  -1.9131808  -2.047483   -2.057615\n",
      " -4.2702775  -0.0199213   2.3736567   3.8204262   3.6957474   3.400842\n",
      "  5.446001   -0.20917428  3.0687342  -1.660735   -6.9500766   5.3701277\n",
      "  4.0408516   5.1347218  -3.3478565   4.738868  ]\n",
      "Waiting time is:  6171 microseconds.\n"
     ]
    },
    {
     "name": "stderr",
     "output_type": "stream",
     "text": [
      "/opt/conda/lib/python3.6/site-packages/tensorflow/contrib/lite/python/__init__.py:26: PendingDeprecationWarning: WARNING: TF Lite has moved from tf.contrib.lite to tf.lite. Please update your imports. This will be a breaking error in TensorFlow version 2.0.\n",
      "  _warnings.warn(WARNING, PendingDeprecationWarning)\n"
     ]
    },
    {
     "ename": "SystemExit",
     "evalue": "",
     "output_type": "error",
     "traceback": [
      "An exception has occurred, use %tb to see the full traceback.\n",
      "\u001b[0;31mSystemExit\u001b[0m\n"
     ]
    },
    {
     "name": "stderr",
     "output_type": "stream",
     "text": [
      "/opt/conda/lib/python3.6/site-packages/IPython/core/interactiveshell.py:3304: UserWarning: To exit: use 'exit', 'quit', or Ctrl-D.\n",
      "  warn(\"To exit: use 'exit', 'quit', or Ctrl-D.\", stacklevel=1)\n"
     ]
    }
   ],
   "source": [
    "tf.app.run()"
   ]
  },
  {
   "cell_type": "code",
   "execution_count": null,
   "metadata": {},
   "outputs": [],
   "source": []
  }
 ],
 "metadata": {
  "kernelspec": {
   "display_name": "Python 3",
   "language": "python",
   "name": "python3"
  },
  "language_info": {
   "codemirror_mode": {
    "name": "ipython",
    "version": 3
   },
   "file_extension": ".py",
   "mimetype": "text/x-python",
   "name": "python",
   "nbconvert_exporter": "python",
   "pygments_lexer": "ipython3",
   "version": "3.6.7"
  }
 },
 "nbformat": 4,
 "nbformat_minor": 2
}
