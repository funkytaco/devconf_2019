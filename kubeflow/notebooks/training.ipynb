{
 "cells": [
  {
   "cell_type": "code",
   "execution_count": 1,
   "metadata": {},
   "outputs": [
    {
     "name": "stdout",
     "output_type": "stream",
     "text": [
      "Name: tensorflow\r\n",
      "Version: 1.13.1\r\n",
      "Summary: TensorFlow is an open source machine learning framework for everyone.\r\n",
      "Home-page: https://www.tensorflow.org/\r\n",
      "Author: Google Inc.\r\n",
      "Author-email: opensource@google.com\r\n",
      "License: Apache 2.0\r\n",
      "Location: /opt/conda/lib/python3.6/site-packages\r\n",
      "Requires: keras-applications, numpy, absl-py, protobuf, six, grpcio, termcolor, wheel, astor, tensorboard, tensorflow-estimator, keras-preprocessing, gast\r\n",
      "Required-by: \r\n"
     ]
    }
   ],
   "source": [
    "#Show which tensorflow wheel file is used\n",
    "!pip show tensorflow"
   ]
  },
  {
   "cell_type": "code",
   "execution_count": 2,
   "metadata": {},
   "outputs": [],
   "source": [
    "#Remove existing model folders if any\n",
    "!rm -fr 1"
   ]
  },
  {
   "cell_type": "code",
   "execution_count": 3,
   "metadata": {},
   "outputs": [],
   "source": [
    "import os\n",
    "import sys\n",
    "\n",
    "import tensorflow as tf\n",
    "import numpy as np\n",
    "\n",
    "tf.app.flags.DEFINE_integer(\"training_iteration\", 300, \"number of training iterations.\")\n",
    "tf.app.flags.DEFINE_integer(\"model_version\", 1, \"version number of the model.\")\n",
    "tf.app.flags.DEFINE_string(\"work_dir\", \"\", \"Working directory.\")\n",
    "FLAGS = tf.app.flags.FLAGS"
   ]
  },
  {
   "cell_type": "code",
   "execution_count": 4,
   "metadata": {},
   "outputs": [],
   "source": [
    "def main(_):\n",
    "    sess = tf.InteractiveSession()\n",
    "\n",
    "    x = tf.placeholder(\"float\", shape=[None, 3])\n",
    "    y_ = tf.placeholder(\"float\", shape=[None, 1])\n",
    "    w = tf.get_variable(\"w\", shape=[3, 1], initializer=tf.truncated_normal_initializer)\n",
    "    b = tf.get_variable(\"b\", shape=[1], initializer=tf.zeros_initializer)\n",
    "\n",
    "    sess.run(tf.global_variables_initializer())\n",
    "\n",
    "    y = tf.matmul(x, w) + b\n",
    "\n",
    "    ms_loss = tf.reduce_mean((y - y_) ** 2)\n",
    "\n",
    "    train_step = tf.train.GradientDescentOptimizer(0.005).minimize(ms_loss)\n",
    "\n",
    "    train_x = np.random.randn(1000, 3)\n",
    "    # let the model learn the equation of y = x1 * 1 + x2 * 2 + x3 * 3\n",
    "    train_y = np.sum(\n",
    "        train_x * np.array([1, 2, 3]) + np.random.randn(1000, 3) / 100, axis=1\n",
    "    ).reshape(-1, 1)\n",
    "\n",
    "    train_loss = []\n",
    "\n",
    "    for _ in range(FLAGS.training_iteration):\n",
    "        loss, _ = sess.run([ms_loss, train_step], feed_dict={x: train_x, y_: train_y})\n",
    "        train_loss.append(loss)\n",
    "    print(\"Training error %g\" % loss)\n",
    "\n",
    "    print(\"Done training!\")\n",
    "    # Export model\n",
    "    export_path_base = FLAGS.work_dir\n",
    "    export_path = os.path.join(\n",
    "        tf.compat.as_bytes(export_path_base),\n",
    "        tf.compat.as_bytes(str(FLAGS.model_version)),\n",
    "    )\n",
    "    print(\"Exporting trained model to\", export_path)\n",
    "    builder = tf.saved_model.builder.SavedModelBuilder(export_path)\n",
    "\n",
    "    tensor_info_x = tf.saved_model.utils.build_tensor_info(x)\n",
    "    tensor_info_y = tf.saved_model.utils.build_tensor_info(y)\n",
    "\n",
    "    prediction_signature = tf.saved_model.signature_def_utils.build_signature_def(\n",
    "        inputs={\"input\": tensor_info_x},\n",
    "        outputs={\"output\": tensor_info_y},\n",
    "        method_name=tf.saved_model.signature_constants.PREDICT_METHOD_NAME,\n",
    "    )\n",
    "\n",
    "    legacy_init_op = tf.group(tf.tables_initializer(), name=\"legacy_init_op\")\n",
    "    builder.add_meta_graph_and_variables(\n",
    "        sess,\n",
    "        [tf.saved_model.tag_constants.SERVING],\n",
    "        signature_def_map={\"prediction\": prediction_signature},\n",
    "        legacy_init_op=legacy_init_op,\n",
    "    )\n",
    "\n",
    "    builder.save()\n",
    "\n",
    "    print(\"Done exporting!\")\n",
    "\n"
   ]
  },
  {
   "cell_type": "code",
   "execution_count": 5,
   "metadata": {},
   "outputs": [
    {
     "name": "stdout",
     "output_type": "stream",
     "text": [
      "WARNING:tensorflow:From /opt/conda/lib/python3.6/site-packages/tensorflow/python/framework/op_def_library.py:263: colocate_with (from tensorflow.python.framework.ops) is deprecated and will be removed in a future version.\n",
      "Instructions for updating:\n",
      "Colocations handled automatically by placer.\n",
      "Training error 0.0568467\n",
      "Done training!\n",
      "Exporting trained model to b'1'\n",
      "WARNING:tensorflow:From <ipython-input-4-d363e88a0277>:40: build_tensor_info (from tensorflow.python.saved_model.utils_impl) is deprecated and will be removed in a future version.\n",
      "Instructions for updating:\n",
      "This function will only be available through the v1 compatibility library as tf.compat.v1.saved_model.utils.build_tensor_info or tf.compat.v1.saved_model.build_tensor_info.\n",
      "WARNING:tensorflow:From <ipython-input-4-d363e88a0277>:54: calling SavedModelBuilder.add_meta_graph_and_variables (from tensorflow.python.saved_model.builder_impl) with legacy_init_op is deprecated and will be removed in a future version.\n",
      "Instructions for updating:\n",
      "Pass your op to the equivalent parameter main_op instead.\n",
      "INFO:tensorflow:No assets to save.\n",
      "INFO:tensorflow:No assets to write.\n",
      "INFO:tensorflow:SavedModel written to: 1/saved_model.pb\n",
      "Done exporting!\n"
     ]
    },
    {
     "ename": "SystemExit",
     "evalue": "",
     "output_type": "error",
     "traceback": [
      "An exception has occurred, use %tb to see the full traceback.\n",
      "\u001b[0;31mSystemExit\u001b[0m\n"
     ]
    },
    {
     "name": "stderr",
     "output_type": "stream",
     "text": [
      "/opt/conda/lib/python3.6/site-packages/IPython/core/interactiveshell.py:3304: UserWarning: To exit: use 'exit', 'quit', or Ctrl-D.\n",
      "  warn(\"To exit: use 'exit', 'quit', or Ctrl-D.\", stacklevel=1)\n"
     ]
    }
   ],
   "source": [
    "tf.app.run()"
   ]
  },
  {
   "cell_type": "code",
   "execution_count": 6,
   "metadata": {},
   "outputs": [
    {
     "name": "stdout",
     "output_type": "stream",
     "text": [
      "total 20\r\n",
      "-rw-r--r--. 1 jovyan users 19757 Aug 14 13:46 saved_model.pb\r\n",
      "drwxr-xr-x. 2 jovyan users    66 Aug 14 13:46 variables\r\n"
     ]
    }
   ],
   "source": [
    "!ls -l 1/"
   ]
  },
  {
   "cell_type": "code",
   "execution_count": 7,
   "metadata": {},
   "outputs": [
    {
     "name": "stdout",
     "output_type": "stream",
     "text": [
      "/bin/sh: 1: tensorflow_model_server: not found\r\n"
     ]
    }
   ],
   "source": [
    "!tensorflow_model_server"
   ]
  },
  {
   "cell_type": "code",
   "execution_count": null,
   "metadata": {},
   "outputs": [],
   "source": []
  }
 ],
 "metadata": {
  "kernelspec": {
   "display_name": "Python 3",
   "language": "python",
   "name": "python3"
  },
  "language_info": {
   "codemirror_mode": {
    "name": "ipython",
    "version": 3
   },
   "file_extension": ".py",
   "mimetype": "text/x-python",
   "name": "python",
   "nbconvert_exporter": "python",
   "pygments_lexer": "ipython3",
   "version": "3.6.7"
  }
 },
 "nbformat": 4,
 "nbformat_minor": 2
}
